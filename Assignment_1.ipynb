{
  "nbformat": 4,
  "nbformat_minor": 0,
  "metadata": {
    "colab": {
      "provenance": [],
      "authorship_tag": "ABX9TyN5MYymR/0Cv+UfaGnFzxtj",
      "include_colab_link": true
    },
    "kernelspec": {
      "name": "python3",
      "display_name": "Python 3"
    },
    "language_info": {
      "name": "python"
    }
  },
  "cells": [
    {
      "cell_type": "markdown",
      "metadata": {
        "id": "view-in-github",
        "colab_type": "text"
      },
      "source": [
        "<a href=\"https://colab.research.google.com/github/2203A51034/AL-ML_BATCH-5/blob/main/Assignment_1.ipynb\" target=\"_parent\"><img src=\"https://colab.research.google.com/assets/colab-badge.svg\" alt=\"Open In Colab\"/></a>"
      ]
    },
    {
      "cell_type": "code",
      "execution_count": null,
      "metadata": {
        "id": "RVK51QTtM63B"
      },
      "outputs": [],
      "source": []
    },
    {
      "cell_type": "markdown",
      "source": [
        "Part-1: Implement basic data structures with numpy or pandas"
      ],
      "metadata": {
        "id": "L27rg4tQM8Ft"
      }
    },
    {
      "cell_type": "markdown",
      "source": [
        "1.Lists"
      ],
      "metadata": {
        "id": "yoCgqPacNUdO"
      }
    },
    {
      "cell_type": "code",
      "source": [
        "import numpy as np\n",
        "list=np.array([1,2,3,4])\n",
        "print(list)"
      ],
      "metadata": {
        "colab": {
          "base_uri": "https://localhost:8080/"
        },
        "id": "R7YH0Mg2Nbb1",
        "outputId": "186babd8-a109-455e-ba51-ec7d5e9097e6"
      },
      "execution_count": null,
      "outputs": [
        {
          "output_type": "stream",
          "name": "stdout",
          "text": [
            "[1 2 3 4]\n"
          ]
        }
      ]
    },
    {
      "cell_type": "code",
      "source": [
        "import pandas as pd\n",
        "\n",
        "# Define lists\n",
        "names = ['Alice', 'Bob', 'Charlie', 'David']\n",
        "ages = [25, 30, 35, 40]\n",
        "cities = ['New York', 'Los Angeles', 'Chicago', 'Houston']\n",
        "\n",
        "# Create a dictionary from lists\n",
        "data = {\n",
        "    'Name': names,\n",
        "    'Age': ages,\n",
        "    'City': cities\n",
        "}\n",
        "\n",
        "# Create a DataFrame from the dictionary\n",
        "df = pd.DataFrame(data)\n",
        "\n",
        "# Print the DataFrame\n",
        "print(df)\n",
        "\n"
      ],
      "metadata": {
        "colab": {
          "base_uri": "https://localhost:8080/"
        },
        "id": "NXhxyKAOOkwM",
        "outputId": "1f1ebbb2-111e-49fb-f06f-c0c01b36dd42"
      },
      "execution_count": null,
      "outputs": [
        {
          "output_type": "stream",
          "name": "stdout",
          "text": [
            "      Name  Age         City\n",
            "0    Alice   25     New York\n",
            "1      Bob   30  Los Angeles\n",
            "2  Charlie   35      Chicago\n",
            "3    David   40      Houston\n"
          ]
        }
      ]
    },
    {
      "cell_type": "markdown",
      "source": [
        "2.Arrays"
      ],
      "metadata": {
        "id": "4rVZLjloNkIX"
      }
    },
    {
      "cell_type": "code",
      "source": [
        "import numpy as np\n",
        "list=[11,22,33,44]\n",
        "arr=np.array(list)\n",
        "print(arr)"
      ],
      "metadata": {
        "colab": {
          "base_uri": "https://localhost:8080/"
        },
        "id": "rtYSPkk4Nmff",
        "outputId": "db8932eb-1ed4-441c-aa42-1e3be2e7d7bb"
      },
      "execution_count": null,
      "outputs": [
        {
          "output_type": "stream",
          "name": "stdout",
          "text": [
            "[11 22 33 44]\n"
          ]
        }
      ]
    },
    {
      "cell_type": "code",
      "source": [
        "array2d=np.array(([1,2,3],[4,5,6],[7,8,9]))\n",
        "print(array2d)\n",
        "print('dimensions : ',array2d.ndim)"
      ],
      "metadata": {
        "colab": {
          "base_uri": "https://localhost:8080/"
        },
        "id": "Aks2g6e3YYZm",
        "outputId": "6ccb6a0a-0550-4bd3-f881-32e1859611d3"
      },
      "execution_count": null,
      "outputs": [
        {
          "output_type": "stream",
          "name": "stdout",
          "text": [
            "[[1 2 3]\n",
            " [4 5 6]\n",
            " [7 8 9]]\n",
            "dimensions :  2\n"
          ]
        }
      ]
    },
    {
      "cell_type": "markdown",
      "source": [
        "3.Identify their type using type()"
      ],
      "metadata": {
        "id": "a6OrFNKmN8uG"
      }
    },
    {
      "cell_type": "code",
      "source": [
        "print(type(list1))"
      ],
      "metadata": {
        "colab": {
          "base_uri": "https://localhost:8080/"
        },
        "id": "4o8MgZdBTk_x",
        "outputId": "2713e99c-0f48-431f-b409-fb024ec96764"
      },
      "execution_count": null,
      "outputs": [
        {
          "output_type": "stream",
          "name": "stdout",
          "text": [
            "<class 'list'>\n"
          ]
        }
      ]
    },
    {
      "cell_type": "code",
      "source": [
        "a=True\n",
        "print(type(a))"
      ],
      "metadata": {
        "colab": {
          "base_uri": "https://localhost:8080/"
        },
        "id": "mrrWvlfaTvmW",
        "outputId": "c3dc7a1b-e6a2-4d68-c244-1dd1d7d865f1"
      },
      "execution_count": null,
      "outputs": [
        {
          "output_type": "stream",
          "name": "stdout",
          "text": [
            "<class 'bool'>\n"
          ]
        }
      ]
    },
    {
      "cell_type": "code",
      "source": [
        "a=8.7\n",
        "print(type(a))"
      ],
      "metadata": {
        "colab": {
          "base_uri": "https://localhost:8080/"
        },
        "id": "BjIWmqVcUCRO",
        "outputId": "5ba712ee-460f-453e-a2fd-37ad647e5c67"
      },
      "execution_count": null,
      "outputs": [
        {
          "output_type": "stream",
          "name": "stdout",
          "text": [
            "<class 'float'>\n"
          ]
        }
      ]
    },
    {
      "cell_type": "code",
      "source": [
        "a='a'\n",
        "print(type(a))"
      ],
      "metadata": {
        "colab": {
          "base_uri": "https://localhost:8080/"
        },
        "id": "_yDqfgDhUKLL",
        "outputId": "a08f022f-e8c9-424b-80aa-6596f4753029"
      },
      "execution_count": null,
      "outputs": [
        {
          "output_type": "stream",
          "name": "stdout",
          "text": [
            "<class 'str'>\n"
          ]
        }
      ]
    },
    {
      "cell_type": "code",
      "source": [
        "a=99\n",
        "print(type(a))"
      ],
      "metadata": {
        "colab": {
          "base_uri": "https://localhost:8080/"
        },
        "id": "rBJC-BqpUOFP",
        "outputId": "a0dca70b-1807-4e83-9945-25d4b66c537d"
      },
      "execution_count": null,
      "outputs": [
        {
          "output_type": "stream",
          "name": "stdout",
          "text": [
            "<class 'int'>\n"
          ]
        }
      ]
    },
    {
      "cell_type": "code",
      "source": [
        "a=23456723678921\n",
        "print(type(a))"
      ],
      "metadata": {
        "colab": {
          "base_uri": "https://localhost:8080/"
        },
        "id": "-f3m5VJjUTsN",
        "outputId": "360669d2-102e-44f4-adf5-e144dca2516a"
      },
      "execution_count": null,
      "outputs": [
        {
          "output_type": "stream",
          "name": "stdout",
          "text": [
            "<class 'int'>\n"
          ]
        }
      ]
    },
    {
      "cell_type": "code",
      "source": [
        "print(type(revenue))"
      ],
      "metadata": {
        "colab": {
          "base_uri": "https://localhost:8080/"
        },
        "id": "wgxZc2_MUZUc",
        "outputId": "c27ff9b9-8298-444e-b56a-395ff9aad19c"
      },
      "execution_count": null,
      "outputs": [
        {
          "output_type": "stream",
          "name": "stdout",
          "text": [
            "<class 'pandas.core.frame.DataFrame'>\n"
          ]
        }
      ]
    },
    {
      "cell_type": "markdown",
      "source": [
        "4. Perform mathematical operations on these datasets created - multiplication, division,\n",
        "poweroff"
      ],
      "metadata": {
        "id": "oT3Y0rXhdti6"
      }
    },
    {
      "cell_type": "markdown",
      "source": [
        "a.Multiplication"
      ],
      "metadata": {
        "id": "shkoEHKJd07B"
      }
    },
    {
      "cell_type": "code",
      "source": [
        "import pandas as pd\n",
        "\n",
        "# Create a DataFrame\n",
        "data = {\n",
        "    'A': [1, 2, 3, 4],\n",
        "    'B': [5, 6, 7, 8],\n",
        "}\n",
        "\n",
        "df = pd.DataFrame(data)\n",
        "\n",
        "# Perform multiplication on the DataFrame\n",
        "result = df['A'] * df['B']\n",
        "\n",
        "# Print the result\n",
        "print(\"Multiplication result:\")\n",
        "print(result)\n"
      ],
      "metadata": {
        "colab": {
          "base_uri": "https://localhost:8080/"
        },
        "id": "BST2dRXhd_fY",
        "outputId": "a68eb435-2b49-42db-a201-cb4008d700ac"
      },
      "execution_count": null,
      "outputs": [
        {
          "output_type": "stream",
          "name": "stdout",
          "text": [
            "Multiplication result:\n",
            "0     5\n",
            "1    12\n",
            "2    21\n",
            "3    32\n",
            "dtype: int64\n"
          ]
        }
      ]
    },
    {
      "cell_type": "markdown",
      "source": [
        "b.Division"
      ],
      "metadata": {
        "id": "wkxc4esleK7C"
      }
    },
    {
      "cell_type": "code",
      "source": [
        "import pandas as pd\n",
        "\n",
        "# Create a DataFrame\n",
        "data = {\n",
        "    'A': [10, 20, 30, 40],\n",
        "    'B': [5, 4, 3, 2],\n",
        "}\n",
        "\n",
        "df = pd.DataFrame(data)\n",
        "\n",
        "# Perform division on the DataFrame\n",
        "result = df['A'] / df['B']\n",
        "\n",
        "# Print the result\n",
        "print(\"Division result:\")\n",
        "print(result)\n"
      ],
      "metadata": {
        "colab": {
          "base_uri": "https://localhost:8080/"
        },
        "id": "I_MFVuB9eNjy",
        "outputId": "79eb7b3d-e9ad-4217-a223-98658362a0b7"
      },
      "execution_count": null,
      "outputs": [
        {
          "output_type": "stream",
          "name": "stdout",
          "text": [
            "Division result:\n",
            "0     2.0\n",
            "1     5.0\n",
            "2    10.0\n",
            "3    20.0\n",
            "dtype: float64\n"
          ]
        }
      ]
    },
    {
      "cell_type": "markdown",
      "source": [
        "c.Poweroff"
      ],
      "metadata": {
        "id": "OUC4EZMVeoVx"
      }
    },
    {
      "cell_type": "code",
      "source": [
        "import pandas as pd\n",
        "\n",
        "# Create a DataFrame\n",
        "data = {\n",
        "    'A': [2, 3, 4, 5],\n",
        "    'B': [3, 2, 4, 1],\n",
        "}\n",
        "\n",
        "df = pd.DataFrame(data)\n",
        "\n",
        "# Perform the power operation on the DataFrame\n",
        "result = df['A'] ** df['B']\n",
        "\n",
        "# Print the result\n",
        "print(\"Power operation result:\")\n",
        "print(result)\n"
      ],
      "metadata": {
        "colab": {
          "base_uri": "https://localhost:8080/"
        },
        "id": "WO7oho9ber5q",
        "outputId": "6b44a837-e9fe-499d-e083-a18950ee6bf5"
      },
      "execution_count": null,
      "outputs": [
        {
          "output_type": "stream",
          "name": "stdout",
          "text": [
            "Power operation result:\n",
            "0      8\n",
            "1      9\n",
            "2    256\n",
            "3      5\n",
            "dtype: int64\n"
          ]
        }
      ]
    },
    {
      "cell_type": "markdown",
      "source": [
        "5. Combine text with Numpy fuction to generate a textual output - \"Addition of Two:\n",
        "array1 +array 2"
      ],
      "metadata": {
        "id": "00wDMX74e_nW"
      }
    },
    {
      "cell_type": "code",
      "source": [
        "import numpy as np\n",
        "\n",
        "# Create two NumPy arrays\n",
        "array1 = np.array([1, 2, 3])\n",
        "array2 = np.array([4, 5, 6])\n",
        "\n",
        "# Perform addition operation using NumPy\n",
        "result = array1 + array2\n",
        "\n",
        "# Generate textual output\n",
        "text_output = \"Addition of Two: array1 + array2\"\n",
        "\n",
        "# Print the textual output and the result of the addition\n",
        "print(text_output)\n",
        "print(result)\n"
      ],
      "metadata": {
        "colab": {
          "base_uri": "https://localhost:8080/"
        },
        "id": "uKsmePh7fFIR",
        "outputId": "f33e9ff4-a9f5-4646-a09c-470a7fc311e0"
      },
      "execution_count": null,
      "outputs": [
        {
          "output_type": "stream",
          "name": "stdout",
          "text": [
            "Addition of Two: array1 + array2\n",
            "[5 7 9]\n"
          ]
        }
      ]
    },
    {
      "cell_type": "markdown",
      "source": [
        "6. Implement np.sin(), log(), log2(), np.exp())"
      ],
      "metadata": {
        "id": "nYsOZ42_fnaW"
      }
    },
    {
      "cell_type": "code",
      "source": [
        "import numpy as np\n",
        "\n",
        "# Define an array for demonstration\n",
        "x = np.array([0, 1, 2, 3, 4])\n",
        "\n",
        "# Compute sine of the array\n",
        "sin_x = np.sin(x)\n",
        "\n",
        "# Compute natural logarithm (base e) of the array\n",
        "log_x = np.log(x + 1)  # Adding 1 to avoid log(0)\n",
        "\n",
        "# Compute base-2 logarithm of the array\n",
        "log2_x = np.log2(x + 1)  # Adding 1 to avoid log(0)\n",
        "\n",
        "# Compute exponential (e^x) of the array\n",
        "exp_x = np.exp(x)\n",
        "\n",
        "# Print the results\n",
        "print(\"Sine of the array:\")\n",
        "print(sin_x)\n",
        "print(\"\\nNatural logarithm of the array:\")\n",
        "print(log_x)\n",
        "print(\"\\nBase-2 logarithm of the array:\")\n",
        "print(log2_x)\n",
        "print(\"\\nExponential of the array:\")\n",
        "print(exp_x)\n"
      ],
      "metadata": {
        "colab": {
          "base_uri": "https://localhost:8080/"
        },
        "id": "GF88ynCLfolJ",
        "outputId": "08aff404-f3df-4090-bcf3-f82a6a0be36e"
      },
      "execution_count": null,
      "outputs": [
        {
          "output_type": "stream",
          "name": "stdout",
          "text": [
            "Sine of the array:\n",
            "[ 0.          0.84147098  0.90929743  0.14112001 -0.7568025 ]\n",
            "\n",
            "Natural logarithm of the array:\n",
            "[0.         0.69314718 1.09861229 1.38629436 1.60943791]\n",
            "\n",
            "Base-2 logarithm of the array:\n",
            "[0.         1.         1.5849625  2.         2.32192809]\n",
            "\n",
            "Exponential of the array:\n",
            "[ 1.          2.71828183  7.3890561  20.08553692 54.59815003]\n"
          ]
        }
      ]
    },
    {
      "cell_type": "markdown",
      "source": [
        "Part-2:Visualization of Data using matplotlib, pyplots Packages"
      ],
      "metadata": {
        "id": "BrYtmKcXkZ-G"
      }
    },
    {
      "cell_type": "markdown",
      "source": [
        "1. Generate a Data set for Health Care using the following:\n",
        "people = ['kiran', arun', 'vijay', 'varun']\n",
        "age =[25, 30, 35, 40, 45]\n",
        "height =[145, 151, 165, 173]\n",
        "weight=[45, 55, 65, 75]"
      ],
      "metadata": {
        "id": "dZJBhvoVkkZ9"
      }
    },
    {
      "cell_type": "code",
      "source": [
        "import pandas as pd\n",
        "\n",
        "# Define data\n",
        "people = ['kiran', 'arun', 'vijay', 'varun']\n",
        "age = [25, 30, 35, 40]\n",
        "height = [145, 151, 165, 173]\n",
        "weight = [45, 55, 65, 75]\n",
        "\n",
        "# Create DataFrame\n",
        "health_data = pd.DataFrame({'Person': people, 'Age': age, 'Height': height, 'Weight': weight})\n",
        "\n",
        "print(health_data)\n"
      ],
      "metadata": {
        "colab": {
          "base_uri": "https://localhost:8080/"
        },
        "id": "Wfflcbdiko0B",
        "outputId": "5caf5d05-41d7-44ab-d5ad-435f0c8a64aa"
      },
      "execution_count": null,
      "outputs": [
        {
          "output_type": "stream",
          "name": "stdout",
          "text": [
            "  Person  Age  Height  Weight\n",
            "0  kiran   25     145      45\n",
            "1   arun   30     151      55\n",
            "2  vijay   35     165      65\n",
            "3  varun   40     173      75\n"
          ]
        }
      ]
    },
    {
      "cell_type": "markdown",
      "source": [
        "2. Using the generated dataset given above. Generate the following graphs and justify the\n",
        "relationships among the vectors.\n"
      ],
      "metadata": {
        "id": "ijXOpqNHkudU"
      }
    },
    {
      "cell_type": "markdown",
      "source": [
        "\n",
        "3. Scatter Plot"
      ],
      "metadata": {
        "id": "c_zjmV3rk2rY"
      }
    },
    {
      "cell_type": "code",
      "source": [
        "import matplotlib.pyplot as plt\n",
        "\n",
        "# Scatter plot\n",
        "plt.figure(figsize=(8, 6))\n",
        "plt.scatter(health_data['Age'], health_data['Height'], color='blue', label='Height')\n",
        "plt.scatter(health_data['Age'], health_data['Weight'], color='red', label='Weight')\n",
        "plt.title('Health Care Data - Scatter Plot')\n",
        "plt.xlabel('Age')\n",
        "plt.ylabel('Height/Weight')\n",
        "plt.legend()\n",
        "plt.grid(True)\n",
        "plt.show()\n"
      ],
      "metadata": {
        "colab": {
          "base_uri": "https://localhost:8080/",
          "height": 564
        },
        "id": "I-VLJVCyk5Je",
        "outputId": "f11f04c2-9960-43a3-d18f-2099591d2693"
      },
      "execution_count": null,
      "outputs": [
        {
          "output_type": "display_data",
          "data": {
            "text/plain": [
              "<Figure size 800x600 with 1 Axes>"
            ],
            "image/png": "[encoded data removed]"
          },
          "metadata": {}
        }
      ]
    },
    {
      "cell_type": "markdown",
      "source": [
        "4. Bar Chart"
      ],
      "metadata": {
        "id": "ufYsgGWrk-wd"
      }
    },
    {
      "cell_type": "code",
      "source": [
        "# Bar chart\n",
        "plt.figure(figsize=(8, 6))\n",
        "bar_width = 0.35\n",
        "age_index = range(len(health_data))\n",
        "plt.bar(age_index, health_data['Height'], bar_width, color='blue', label='Height')\n",
        "plt.bar([i + bar_width for i in age_index], health_data['Weight'], bar_width, color='red', label='Weight')\n",
        "plt.xlabel('People')\n",
        "plt.ylabel('Height/Weight')\n",
        "plt.title('Health Care Data - Bar Chart')\n",
        "plt.xticks([i + bar_width / 2 for i in age_index], health_data['Person'])\n",
        "plt.legend()\n",
        "plt.show()\n"
      ],
      "metadata": {
        "colab": {
          "base_uri": "https://localhost:8080/",
          "height": 564
        },
        "id": "EB8b4YuPlBg5",
        "outputId": "3b20a8c5-c542-45df-d562-3249640f18a7"
      },
      "execution_count": null,
      "outputs": [
        {
          "output_type": "display_data",
          "data": {
            "text/plain": [
              "<Figure size 800x600 with 1 Axes>"
            ],
            "image/png": "[encoded data removed]"
          },
          "metadata": {}
        }
      ]
    },
    {
      "cell_type": "markdown",
      "source": [
        "5. Histogram"
      ],
      "metadata": {
        "id": "bMPrck-alHzX"
      }
    },
    {
      "cell_type": "code",
      "source": [
        "#for heights\n",
        "import matplotlib.pyplot as plt\n",
        "\n",
        "people = ['kiran', 'arun', 'vijay', 'varun']\n",
        "age = [25, 30, 35, 40, 45]\n",
        "height = [145, 151, 165, 173]\n",
        "\n",
        "plt.figure(figsize=(5, 3))\n",
        "plt.hist(age[:-1], bins=age, weights=height, edgecolor='black', alpha=0.7)\n",
        "plt.xlabel('Age (₹)')\n",
        "plt.ylabel('Height')\n",
        "plt.grid(axis='y', linestyle='--', alpha=0.7)\n",
        "\n",
        "plt.show()"
      ],
      "metadata": {
        "colab": {
          "base_uri": "https://localhost:8080/",
          "height": 311
        },
        "id": "kfT4LvYJlIvl",
        "outputId": "cbf6cbc9-b4e6-4a6d-dd37-6a0fb3cf90eb"
      },
      "execution_count": null,
      "outputs": [
        {
          "output_type": "display_data",
          "data": {
            "text/plain": [
              "<Figure size 500x300 with 1 Axes>"
            ],
            "image/png": "[encoded data removed]"
          },
          "metadata": {}
        }
      ]
    },
    {
      "cell_type": "code",
      "source": [
        "#for weight\n",
        "import matplotlib.pyplot as plt\n",
        "\n",
        "people = ['kiran', 'arun', 'vijay', 'varun']\n",
        "age = [25, 30, 35, 40, 45]\n",
        "weight=[45, 55, 65, 75]\n",
        "\n",
        "plt.figure(figsize=(5, 3))\n",
        "plt.hist(age[:-1], bins=age, weights=weight, edgecolor='black', alpha=0.7)\n",
        "plt.xlabel('Age (₹)')\n",
        "plt.ylabel('weight')\n",
        "plt.grid(axis='y', linestyle='--', alpha=0.7)\n",
        "\n",
        "plt.show()"
      ],
      "metadata": {
        "colab": {
          "base_uri": "https://localhost:8080/",
          "height": 311
        },
        "id": "GfGKODMPlOrP",
        "outputId": "ba0732e8-b459-4cab-e26d-2e81e8b1e86a"
      },
      "execution_count": null,
      "outputs": [
        {
          "output_type": "display_data",
          "data": {
            "text/plain": [
              "<Figure size 500x300 with 1 Axes>"
            ],
            "image/png": "[encoded data removed]"
          },
          "metadata": {}
        }
      ]
    }
  ]
}