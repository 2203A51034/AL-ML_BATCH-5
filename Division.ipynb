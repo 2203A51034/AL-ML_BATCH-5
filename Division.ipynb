{
 "cells": [
  {
   "cell_type": "code",
   "execution_count": null,
   "metadata": {},
   "outputs": [],
   "source": [
    "# Division\n",
    "numerator = float(input(\"Enter the numerator: \"))\n",
    "denominator = float(input(\"Enter the denominator: \"))\n",
    "\n",
    "# Check if the denominator is not zero\n",
    "if denominator != 0:\n",
    "    # Calculate the division\n",
    "    quotient_result = numerator / denominator\n",
    "    # Display the result\n",
    "    print(f\"The result of {numerator} divided by {denominator} is: {quotient_result}\")\n",
    "else:\n",
    "    print(\"Error: Division by zero is undefined. Please enter a non-zero denominator.\")\n"
   ]
  }
 ],
 "metadata": {
  "language_info": {
   "name": "python"
  }
 },
 "nbformat": 4,
 "nbformat_minor": 2
}
