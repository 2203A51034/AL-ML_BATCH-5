{
 "cells": [
  {
   "cell_type": "code",
   "execution_count": 1,
   "metadata": {},
   "outputs": [
    {
     "name": "stdout",
     "output_type": "stream",
     "text": [
      "The result of 8.0 divided by 4.0 is: 2.0\n"
     ]
    }
   ],
   "source": [
    "# Division\n",
    "numerator = float(input(\"Enter the numerator: \"))\n",
    "denominator = float(input(\"Enter the denominator: \"))\n",
    "\n",
    "# Check if the denominator is not zero\n",
    "if denominator != 0:\n",
    "    # Calculate the division\n",
    "    quotient_result = numerator / denominator\n",
    "    # Display the result\n",
    "    print(f\"The result of {numerator} divided by {denominator} is: {quotient_result}\")\n",
    "else:\n",
    "    print(\"Error: Division by zero is undefined. Please enter a non-zero denominator.\")\n"
   ]
  }
 ],
 "metadata": {
  "kernelspec": {
   "display_name": "Python 3",
   "language": "python",
   "name": "python3"
  },
  "language_info": {
   "codemirror_mode": {
    "name": "ipython",
    "version": 3
   },
   "file_extension": ".py",
   "mimetype": "text/x-python",
   "name": "python",
   "nbconvert_exporter": "python",
   "pygments_lexer": "ipython3",
   "version": "3.10.13"
  }
 },
 "nbformat": 4,
 "nbformat_minor": 2
}
